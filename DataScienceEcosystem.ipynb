{
 "cells": [
  {
   "cell_type": "markdown",
   "id": "8a459488-1db9-444b-9302-0c65e90801f6",
   "metadata": {
    "tags": []
   },
   "source": [
    "# Data Science Tools and Ecosystem"
   ]
  },
  {
   "cell_type": "markdown",
   "id": "8f5a266d-74b1-4a35-99c2-699a7d1e6543",
   "metadata": {},
   "source": [
    "In this notebook, Data Science Tools and Ecosystem are summarized"
   ]
  },
  {
   "cell_type": "markdown",
   "id": "89bd2f2a-48df-41c2-8228-8d7e75c47b04",
   "metadata": {},
   "source": [
    "Some of the popular languages that Data Scientists use are:\n",
    "1. python\n",
    "2. R\n",
    "3. SQL\n",
    "\n"
   ]
  },
  {
   "cell_type": "markdown",
   "id": "f2ffb73d-2a24-485b-844e-6694b89fe60d",
   "metadata": {},
   "source": [
    "Some of the commonly used libraries used by Data Scientists include:\n",
    "\n",
    "1. **NumPy**: NumPy is a fundamental package for scientific computing with Python. It provides support for large, multi-dimensional arrays and matrices, along with a collection of mathematical functions to operate on these arrays efficiently.\n",
    "\n",
    "2. **Pandas**: Pandas is a powerful library for data manipulation and analysis built on top of NumPy. It offers data structures like DataFrame and Series, which make handling structured data easier. Pandas provides functionalities for reading and writing data, cleaning, filtering, transforming, and aggregating data.\n",
    "\n",
    "3. **Matplotlib**: Matplotlib is a versatile plotting library for creating static, interactive, and animated visualizations in Python. It provides a MATLAB-like interface and supports various types of plots, including line plots, scatter plots, histograms, bar charts, and more.\n"
   ]
  },
  {
   "cell_type": "markdown",
   "id": "8f1b999b-df33-42cc-bf42-dfb1f2e9afe7",
   "metadata": {},
   "source": [
    "### Data Science Tools\n",
    "\n",
    "| Data Science Tools |\n",
    "|--------------------|\n",
    "| Jupyter Notebook   |\n",
    "| RStudio            |\n",
    "| Spyder             |\n"
   ]
  },
  {
   "cell_type": "markdown",
   "id": "dbf6b9a3-ebbe-40c5-b346-f01f804f1673",
   "metadata": {},
   "source": [
    "### Below are a few examples of evaluating arithmetic expressions in Python"
   ]
  },
  {
   "cell_type": "code",
   "execution_count": 7,
   "id": "bb16afa2-c9aa-413c-b66e-973e3670da2b",
   "metadata": {},
   "outputs": [
    {
     "data": {
      "text/plain": [
       "17"
      ]
     },
     "execution_count": 7,
     "metadata": {},
     "output_type": "execute_result"
    }
   ],
   "source": [
    "# This a simple arithmetic expression to mutiply then add integers\n",
    "\n",
    "result = (3 * 4) + 5\n",
    "result"
   ]
  },
  {
   "cell_type": "code",
   "execution_count": 11,
   "id": "1eb4531c-594b-49e9-8b2b-670614515e9e",
   "metadata": {},
   "outputs": [
    {
     "data": {
      "text/plain": [
       "3.3333333333333335"
      ]
     },
     "execution_count": 11,
     "metadata": {},
     "output_type": "execute_result"
    }
   ],
   "source": [
    "# This will convert 200 minutes to hours by dividing by 60.\n",
    "\n",
    "hours = 200 / 60\n",
    "hours"
   ]
  },
  {
   "cell_type": "markdown",
   "id": "0a2d6177-d703-41b6-9785-828f2a0e6a78",
   "metadata": {},
   "source": [
    "**Objectives:**\n",
    "\n",
    "- List popular languages for Data Science.\n",
    "- Introduce commonly used libraries in Data Science.\n",
    "- Demonstrate basic arithmetic operations in Python.\n",
    "- Perform conversions between different units of measurement.\n"
   ]
  },
  {
   "cell_type": "markdown",
   "id": "81e2f29a-8209-4a22-be28-e1b62ed105bc",
   "metadata": {},
   "source": [
    "## Author\n",
    "Anurat Wongbunmak"
   ]
  },
  {
   "cell_type": "code",
   "execution_count": null,
   "id": "bbc84e35-ea42-418c-89cc-96aae38de745",
   "metadata": {},
   "outputs": [],
   "source": []
  }
 ],
 "metadata": {
  "kernelspec": {
   "display_name": "Python 3 (ipykernel)",
   "language": "python",
   "name": "python3"
  },
  "language_info": {
   "codemirror_mode": {
    "name": "ipython",
    "version": 3
   },
   "file_extension": ".py",
   "mimetype": "text/x-python",
   "name": "python",
   "nbconvert_exporter": "python",
   "pygments_lexer": "ipython3",
   "version": "3.9.12"
  }
 },
 "nbformat": 4,
 "nbformat_minor": 5
}
